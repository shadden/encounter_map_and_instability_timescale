{
 "cells": [
  {
   "cell_type": "code",
   "execution_count": 60,
   "id": "c90f9d33",
   "metadata": {},
   "outputs": [],
   "source": [
    "import numpy as np\n",
    "from celmech.maps import StandardMap\n",
    "import sys\n",
    "sys.path.append(\"../code/\")\n",
    "from sos_utils import get_map_pts"
   ]
  },
  {
   "cell_type": "code",
   "execution_count": 61,
   "id": "07db601e",
   "metadata": {},
   "outputs": [],
   "source": [
    "smap = StandardMap(0.98)"
   ]
  },
  {
   "cell_type": "code",
   "execution_count": 62,
   "id": "da060d70",
   "metadata": {},
   "outputs": [],
   "source": [
    "pt0s = np.array([(0,x) for x in np.random.normal(0,1e-5,size=50)])"
   ]
  },
  {
   "cell_type": "code",
   "execution_count": null,
   "id": "bd55ca5e",
   "metadata": {},
   "outputs": [],
   "source": [
    "smap.mod_p"
   ]
  },
  {
   "cell_type": "code",
   "execution_count": 112,
   "id": "71ca7d8a",
   "metadata": {},
   "outputs": [],
   "source": [
    "from scipy.optimize import root_scalar"
   ]
  },
  {
   "cell_type": "code",
   "execution_count": 327,
   "id": "1afa6482",
   "metadata": {},
   "outputs": [],
   "source": [
    "def symmetry_line1(s):\n",
    "    return np.array((0,s))\n",
    "def symmetry_line2(s):\n",
    "    return np.array((np.pi,s))\n",
    "def symmetry_line3(s):\n",
    "    return np.array((s/2,s))\n",
    "def nest_map(pt0,smap,n):\n",
    "    for _ in range(n):\n",
    "        pt0 = smap(pt0)\n",
    "    return pt0\n",
    "\n",
    "def nest_map_list(pt0,smap,n):\n",
    "    pts = np.zeros((n,2))\n",
    "    for i in range(n):\n",
    "        pts[i] = pt0\n",
    "        pt0 = smap(pt0)\n",
    "    return pts\n",
    "    \n",
    "def find_periodic_orbit(m,n,smap,guess=None,minimax=False):\n",
    "    \n",
    "    smap.mod_p = False\n",
    "    smap.mod_theta = False\n",
    "\n",
    "    if minimax:\n",
    "        symline = symmetry_line1\n",
    "    else:\n",
    "        symline = symmetry_line2 if n%2 else symmetry_line3\n",
    "    rootfn = lambda s: nest_map(symline(s),smap,n)[0] - symline(s)[0] - 2 * np.pi * m\n",
    "    if guess is None:\n",
    "        guess = 2 * m * np.pi / n\n",
    "    xmin = 2 * (m-1) * np.pi / n\n",
    "    x0  = 2 * m * np.pi / n\n",
    "    xmax = 2 * (m+1) * np.pi / n\n",
    "    \n",
    "    bracket = [xmin + 0.5*(guess -xmin),guess]\n",
    "    rt = root_scalar(rootfn,x0=guess,x1 = bracket[0])\n",
    "    pt0 = symline(rt.root)    \n",
    "    orbit = nest_map_list(pt0,smap,n)\n",
    "    \n",
    "    return orbit\n",
    "def get_H_matrix(orbit,smap):\n",
    "    N = len(orbit)\n",
    "    off_diag = np.ones(N-1)\n",
    "    H = 2 * np.eye(N) - np.diag(off_diag,-1) - np.diag(off_diag,+1)\n",
    "    thetas = orbit[:,0]\n",
    "    H = H + smap.K * np.diag(np.cos(thetas))\n",
    "    H[N-1,0]=-1\n",
    "    H[0,N-1]=-1\n",
    "    return H\n",
    "def get_M_matrix(orbit,smap):\n",
    "    M = np.eye(2)\n",
    "    for pt in orbit:\n",
    "        M = np.matmul(smap.jac(pt) , M)\n",
    "    return M"
   ]
  },
  {
   "cell_type": "code",
   "execution_count": 175,
   "id": "777cec5b",
   "metadata": {},
   "outputs": [],
   "source": [
    "import sympy as sp\n",
    "from sympy.ntheory import continued_fraction, continued_fraction_convergents"
   ]
  },
  {
   "cell_type": "code",
   "execution_count": 338,
   "id": "408d066e",
   "metadata": {},
   "outputs": [
    {
     "data": {
      "text/latex": [
       "$\\displaystyle \\left( 3.3, \\  3.4\\right)$"
      ],
      "text/plain": [
       "(3.3, 3.4)"
      ]
     },
     "execution_count": 338,
     "metadata": {},
     "output_type": "execute_result"
    },
    {
     "data": {
      "image/png": "[encoded data removed]",
      "text/plain": [
       "<Figure size 432x288 with 1 Axes>"
      ]
     },
     "metadata": {
      "needs_background": "light"
     },
     "output_type": "display_data"
    }
   ],
   "source": [
    "sp.continued_fraction(phi)\n",
    "cf = continued_fraction_convergents([0] + [1 for _ in range(10)])\n",
    "convergents = [(f.numerator,f.denominator) for f in cf][4:]\n",
    "\n",
    "smap.K = 0.97\n",
    "\n",
    "Rvals = np.zeros((len(convergents),2))\n",
    "Rvals_Mmethod = np.zeros((len(convergents),2))\n",
    "fvals = np.zeros((len(convergents),2))\n",
    "\n",
    "wrap2pi = lambda x: np.mod(x,2*np.pi)\n",
    "for i,convergent in enumerate(convergents):\n",
    "    \n",
    "    m,n = convergent\n",
    "    \n",
    "    minimax_orbit = find_periodic_orbit(m,n,smap,minimax=True)\n",
    "    minimizing_orbit = find_periodic_orbit(m,n,smap)\n",
    "\n",
    "    theta,p = np.transpose(minimax_orbit)\n",
    "    theta = wrap2pi(theta)\n",
    "    l,=plt.plot(theta,p,'.')\n",
    "\n",
    "    theta,p = np.transpose(minimizing_orbit)\n",
    "    theta = wrap2pi(theta)\n",
    "    plt.plot(theta,p,'x',color=l.get_color())\n",
    "    \n",
    "    \n",
    "    Hmtrx = get_H_matrix(minimax_orbit,smap)\n",
    "    Mmtrx = get_M_matrix(minimax_orbit,smap)\n",
    "    Rvals[i,0] = -0.25 * np.linalg.det(Hmtrx)\n",
    "    Rvals_Mmethod[i,0] = 0.25 * (2 - np.trace(Mmtrx))\n",
    "    fvals[i,0] = (np.abs(Rvals[i,0])/0.25)**(1/n)\n",
    "    \n",
    "    Hmtrx = get_H_matrix(minimizing_orbit,smap)\n",
    "    Mmtrx = get_M_matrix(minimizing_orbit,smap)\n",
    "    Rvals_Mmethod[i,1] = 0.25 * (2 - np.trace(Mmtrx))\n",
    "    Rvals[i,1] = -0.25 * np.linalg.det(Hmtrx)\n",
    "    fvals[i,1] = (np.abs(Rvals[i,1])/0.25)**(1/n)\n",
    "plt.xlim(1,2)\n",
    "plt.ylim(3.3,3.4)"
   ]
  }
 ],
 "metadata": {
  "kernelspec": {
   "display_name": "Python 3 (ipykernel)",
   "language": "python",
   "name": "python3"
  },
  "language_info": {
   "codemirror_mode": {
    "name": "ipython",
    "version": 3
   },
   "file_extension": ".py",
   "mimetype": "text/x-python",
   "name": "python",
   "nbconvert_exporter": "python",
   "pygments_lexer": "ipython3",
   "version": "3.9.7"
  }
 },
 "nbformat": 4,
 "nbformat_minor": 5
}
