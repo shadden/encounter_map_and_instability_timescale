{
 "cells": [
  {
   "cell_type": "code",
   "execution_count": 1,
   "id": "1c77f026",
   "metadata": {},
   "outputs": [],
   "source": [
    "import numpy as np\n",
    "from matplotlib import pyplot as plt\n",
    "%matplotlib inline\n",
    "from celmech.maps import EncounterMap"
   ]
  },
  {
   "cell_type": "code",
   "execution_count": 25,
   "id": "942a9d03",
   "metadata": {},
   "outputs": [],
   "source": [
    "from sympy import bell\n",
    "def bell_poly_sum(n,farr,garr):\n",
    "    \"\"\"\n",
    "    Evaluate the :math:`n`th derivative of :math:`f(g(x))`\n",
    "    where \n",
    "     f(u) = f[0] + f[1]*u + f[2]*u^2/2 + ... + f[n]*u^n/n! + ...\n",
    "     g(x) = g[0] + g[1]*x + g[2]*x^2/2 + ... + g[n]*x^n/n! + ...\n",
    "    \"\"\"\n",
    "    #\n",
    "    return np.sum([farr[k] * bell(n,k,garr[1:n-k+2]) for k in range(1,n)])\n",
    "\n",
    "from scipy.special import binom\n",
    "def to_uv_derivs(T,n,m,c,s):\n",
    "    tot = np.zeros(2)\n",
    "    R = np.array([[c,s],[-s,c]])\n",
    "    for l in range(n+1):\n",
    "        binom_nl = binom(n,l)\n",
    "        for l1 in range(m+1):\n",
    "            cfactor = c**(m+l-l1)\n",
    "            sfactor = s**(n-l+l1)\n",
    "            coeff = (-1)**l1 * binom_nl * binom(m,l1) * cfactor * sfactor\n",
    "            tot +=  coeff * T[:,l+l1,n+m-l-l1]\n",
    "    return R @ tot\n",
    "\n",
    "def rotate_derivs_array(T,theta_rot):\n",
    "    c,s = np.cos(theta_rot),np.sin(theta_rot)\n",
    "    T1 = np.zeros(T.shape)\n",
    "    for n in range(1,T.shape[1]):\n",
    "        for l in range(n+1):\n",
    "            T1[:,l,n-l] = to_uv_derivs(T,l,n-l,c,s)\n",
    "    return T1\n",
    "\n",
    "### Utilities for calculating Psis ####\n",
    "from collections import defaultdict\n",
    "def deriv_of_coeff_and_pows(coeff,pows):\n",
    "    new_pows = np.append(pows,0)\n",
    "    results = []\n",
    "    for m in range(len(pows)):\n",
    "        if new_pows[m]>0:\n",
    "            new_pows = np.append(pows,0)\n",
    "            new_pows[m]-=1\n",
    "            new_pows[m+1]+=1\n",
    "            results.append((coeff * pows[m], new_pows))\n",
    "    return results\n",
    "\n",
    "def _consolidate_coeff_and_pows_list(cp_list):\n",
    "    pows_arr = np.array([_[1] for _ in cp_list])\n",
    "    coeff_arr = np.array([_[0] for _ in cp_list])\n",
    "    i = 0\n",
    "    tot = 0\n",
    "    result = []\n",
    "    while tot < len(coeff_arr):\n",
    "        pows = pows_arr[i]\n",
    "        msk = np.alltrue(pows_arr==pows,axis=1)\n",
    "        coeff = np.sum(coeff_arr[msk])\n",
    "        result+=[(coeff,pows)]\n",
    "        # next index of unique powers\n",
    "        tot += np.sum(msk)\n",
    "        i=i+np.argmin(msk[i:])\n",
    "    return result\n",
    "\n",
    "\n",
    "def get_Psi_dicts(n):\n",
    "    PsiOld = {\n",
    "        (0,1):[(1,np.array([0,1]))],\n",
    "        (1,0):[(1,np.array([0,0]))]\n",
    "    }\n",
    "    Psis = [0,PsiOld]\n",
    "    for m in range(1,n):\n",
    "        PsiNew = defaultdict(list)\n",
    "        for ij,coeffs_and_pows in PsiOld.items():\n",
    "            i,j = ij\n",
    "            PsiNew[(i+1,j)] += coeffs_and_pows\n",
    "            for coeff,pows in coeffs_and_pows:\n",
    "                PsiNew[(i,j)] += deriv_of_coeff_and_pows(coeff,pows)\n",
    "                add_one = pows.copy()\n",
    "                add_one[1] +=1\n",
    "                PsiNew[(i,j+1)] += [(coeff,add_one)]\n",
    "        PsiOld = PsiNew.copy()\n",
    "        for ij, lst in PsiOld.items():\n",
    "            PsiOld[ij] = _consolidate_coeff_and_pows_list(lst)\n",
    "        Psis.append(PsiOld)\n",
    "    return Psis\n",
    "\n",
    "def evaluate_Psi(Psi_dict,Tprimes_arr,farr):\n",
    "    tot = 0\n",
    "    for ij,coeffs_and_pows_list in Psi_dict.items():\n",
    "        i,j = ij \n",
    "        Tprime_ij = Tprimes_arr[i,j]\n",
    "        sub_tot = 0\n",
    "        for coeff,pows in coeffs_and_pows_list:\n",
    "            if coeff==0:\n",
    "                continue\n",
    "            npows = pows.shape[0]\n",
    "            sub_tot += coeff * np.product(farr[:npows]**pows)\n",
    "        tot+= Tprime_ij * sub_tot\n",
    "    return tot\n",
    "\n",
    "def func_from_series(coeffs,x):\n",
    "    \"\"\"\n",
    "    Given a set of Taylor series coefficients, (c_0,....,c_N), evalute\n",
    "    the sum\n",
    "    \n",
    "    .. math::\n",
    "        \\sum_{n=0}^{N} c_n x^n / n!\n",
    "    \"\"\"\n",
    "    return coeffs @ np.array([x**n/np.math.factorial(n) for n in range(coeffs.shape[0])])\n",
    "\n",
    "def manifold_approx(u,n,farr,garr):\n",
    "    f = lambda x: func_from_series(farr[:n+1],x)\n",
    "    g = lambda x: func_from_series(garr[:n+1],x)\n",
    "    \n",
    "    p0 = np.array([u,f(u)])\n",
    "    p1 = np.array([g(u),f(g(u))])\n",
    "    \n",
    "    return p0,p1"
   ]
  },
  {
   "cell_type": "code",
   "execution_count": 3,
   "id": "83d26878",
   "metadata": {},
   "outputs": [],
   "source": [
    "from scipy.misc import derivative"
   ]
  },
  {
   "cell_type": "code",
   "execution_count": 27,
   "id": "48a4a69f",
   "metadata": {},
   "outputs": [],
   "source": [
    "emap = EncounterMap(3e-5,4,0.5,Nmax=5,mod=False)"
   ]
  },
  {
   "cell_type": "code",
   "execution_count": 28,
   "id": "6612a53c",
   "metadata": {},
   "outputs": [],
   "source": [
    "Nmax = 11\n",
    "xunst = np.array((np.pi,0))\n",
    "T = emap.partial_derivs(xunst,Nmax)"
   ]
  },
  {
   "cell_type": "code",
   "execution_count": 29,
   "id": "ba3e2ac3",
   "metadata": {},
   "outputs": [],
   "source": [
    "jac = np.array([[T[0][1,0],T[0][0,1]],[T[1][1,0],T[1][0,1]]])\n",
    "vals,vecs = np.linalg.eig(jac)\n",
    "\n",
    "# Unstable eigenvalue and direction\n",
    "lambdaU = vals[0]\n",
    "uvec = vecs[:,0]\n",
    "theta_rot = np.arctan2(uvec[1],uvec[0])\n",
    "\n",
    "s,c = np.sin(theta_rot),np.cos(theta_rot)\n",
    "R = np.array([[c,s],[-s,c]])\n",
    "\n",
    "# Fill list of Psis\n",
    "Psis = get_Psi_dicts(Nmax)\n",
    "\n",
    "# Get rotated derivatives array\n",
    "Tprime = rotate_derivs_array(T,theta_rot)"
   ]
  },
  {
   "cell_type": "code",
   "execution_count": 35,
   "id": "23c02a62",
   "metadata": {},
   "outputs": [],
   "source": [
    "TU_01 = Tprime[0][0,1]\n",
    "Tperp_01 = Tprime[1][0,1]\n",
    "farr,garr = np.zeros((2,Nmax + 1))\n",
    "garr[1] = lambdaU\n",
    "[Psi.pop((0,1),None) for Psi in Psis[1:]] # Remove (0,1) entry from Psis\n",
    "for n in range(2,Nmax + 1):\n",
    "    Psi_dict=Psis[n]\n",
    "    \n",
    "    # Get numerical value of Psis\n",
    "    PsiPerp = evaluate_Psi(Psi_dict,Tprime[1],farr)\n",
    "    PsiU = evaluate_Psi(Psi_dict,Tprime[0],farr)\n",
    "\n",
    "\n",
    "    denom = Tperp_01-lambdaU**n\n",
    "    Bsum = bell_poly_sum(n,farr,garr)\n",
    "    farr[n] = (Bsum-PsiPerp)/denom\n",
    "    garr[n] = TU_01 * farr[n] + PsiU\n",
    "    #print(n,farr[n],garr[n])"
   ]
  },
  {
   "cell_type": "code",
   "execution_count": 36,
   "id": "3ea57e9f",
   "metadata": {},
   "outputs": [
    {
     "data": {
      "image/png": "[encoded data removed]",
      "text/plain": [
       "<Figure size 432x288 with 1 Axes>"
      ]
     },
     "metadata": {
      "needs_background": "light"
     },
     "output_type": "display_data"
    }
   ],
   "source": [
    "for nmax in [1,3,5,7,9,11]:\n",
    "    u0s = np.logspace(-7,0,20)\n",
    "    errors = []\n",
    "    for u0 in u0s:\n",
    "        p0,p1_approx=manifold_approx(u0,nmax,farr,garr)\n",
    "        p1 = R @ (emap(xunst + R.T @ p0 ) - xunst)\n",
    "        errors.append(np.linalg.norm((p1-p1_approx))/np.linalg.norm(p1))\n",
    "    plt.plot(u0s,errors,label=nmax)\n",
    "plt.legend()\n",
    "plt.xscale('log')\n",
    "plt.yscale('log')\n",
    "#plt.ylim(1e-16,1e-11)"
   ]
  },
  {
   "cell_type": "code",
   "execution_count": 45,
   "id": "54cff02c",
   "metadata": {},
   "outputs": [
    {
     "ename": "ValueError",
     "evalue": "matmul: Input operand 1 has a mismatch in its core dimension 0, with gufunc signature (n?,k),(k,m?)->(n?,m?) (size 5000 is different from 2)",
     "output_type": "error",
     "traceback": [
      "\u001b[0;31m---------------------------------------------------------------------------\u001b[0m",
      "\u001b[0;31mValueError\u001b[0m                                Traceback (most recent call last)",
      "\u001b[0;32m/tmp/ipykernel_15529/2406428173.py\u001b[0m in \u001b[0;36m<module>\u001b[0;34m\u001b[0m\n\u001b[0;32m----> 1\u001b[0;31m \u001b[0mTprime\u001b[0m\u001b[0;34m(\u001b[0m\u001b[0mps\u001b[0m\u001b[0;34m.\u001b[0m\u001b[0mT\u001b[0m\u001b[0;34m)\u001b[0m\u001b[0;34m\u001b[0m\u001b[0;34m\u001b[0m\u001b[0m\n\u001b[0m",
      "\u001b[0;32m/tmp/ipykernel_15529/2810523387.py\u001b[0m in \u001b[0;36m<lambda>\u001b[0;34m(p)\u001b[0m\n\u001b[1;32m      5\u001b[0m \u001b[0mu0\u001b[0m\u001b[0;34m=\u001b[0m\u001b[0;36m2e-2\u001b[0m\u001b[0;34m\u001b[0m\u001b[0;34m\u001b[0m\u001b[0m\n\u001b[1;32m      6\u001b[0m \u001b[0mp0\u001b[0m\u001b[0;34m,\u001b[0m\u001b[0mp1_approx\u001b[0m\u001b[0;34m=\u001b[0m\u001b[0mmanifold_approx\u001b[0m\u001b[0;34m(\u001b[0m\u001b[0mu0\u001b[0m\u001b[0;34m,\u001b[0m\u001b[0mnmax\u001b[0m\u001b[0;34m,\u001b[0m\u001b[0mfarr\u001b[0m\u001b[0;34m,\u001b[0m\u001b[0mgarr\u001b[0m\u001b[0;34m)\u001b[0m\u001b[0;34m\u001b[0m\u001b[0;34m\u001b[0m\u001b[0m\n\u001b[0;32m----> 7\u001b[0;31m \u001b[0mTprime\u001b[0m \u001b[0;34m=\u001b[0m \u001b[0;32mlambda\u001b[0m \u001b[0mp\u001b[0m\u001b[0;34m:\u001b[0m \u001b[0mR\u001b[0m \u001b[0;34m@\u001b[0m \u001b[0;34m(\u001b[0m\u001b[0memap\u001b[0m\u001b[0;34m(\u001b[0m\u001b[0mxunst\u001b[0m \u001b[0;34m+\u001b[0m \u001b[0mR\u001b[0m\u001b[0;34m.\u001b[0m\u001b[0mT\u001b[0m \u001b[0;34m@\u001b[0m \u001b[0mp\u001b[0m\u001b[0;34m)\u001b[0m\u001b[0;34m-\u001b[0m\u001b[0mxunst\u001b[0m\u001b[0;34m)\u001b[0m\u001b[0;34m\u001b[0m\u001b[0;34m\u001b[0m\u001b[0m\n\u001b[0m\u001b[1;32m      8\u001b[0m \u001b[0mp1\u001b[0m \u001b[0;34m=\u001b[0m \u001b[0mTprime\u001b[0m\u001b[0;34m(\u001b[0m\u001b[0mp0\u001b[0m\u001b[0;34m)\u001b[0m\u001b[0;34m\u001b[0m\u001b[0;34m\u001b[0m\u001b[0m\n\u001b[1;32m      9\u001b[0m \u001b[0;31m#p1 = R @ emap(R.T @ p0)\u001b[0m\u001b[0;34m\u001b[0m\u001b[0;34m\u001b[0m\u001b[0m\n",
      "\u001b[0;31mValueError\u001b[0m: matmul: Input operand 1 has a mismatch in its core dimension 0, with gufunc signature (n?,k),(k,m?)->(n?,m?) (size 5000 is different from 2)"
     ]
    }
   ],
   "source": [
    "Tprime(ps.T)"
   ]
  },
  {
   "cell_type": "code",
   "execution_count": 41,
   "id": "8b68c676",
   "metadata": {},
   "outputs": [
    {
     "ename": "ValueError",
     "evalue": "operands could not be broadcast together with shapes (2,) (2,5000) ",
     "output_type": "error",
     "traceback": [
      "\u001b[0;31m---------------------------------------------------------------------------\u001b[0m",
      "\u001b[0;31mValueError\u001b[0m                                Traceback (most recent call last)",
      "\u001b[0;32m/tmp/ipykernel_15529/2810523387.py\u001b[0m in \u001b[0;36m<module>\u001b[0;34m\u001b[0m\n\u001b[1;32m     25\u001b[0m \u001b[0mthetaU\u001b[0m\u001b[0;34m,\u001b[0m\u001b[0mpU\u001b[0m \u001b[0;34m=\u001b[0m \u001b[0mps\u001b[0m\u001b[0;34m\u001b[0m\u001b[0;34m\u001b[0m\u001b[0m\n\u001b[1;32m     26\u001b[0m \u001b[0;32mfor\u001b[0m \u001b[0mn\u001b[0m \u001b[0;32min\u001b[0m \u001b[0mrange\u001b[0m\u001b[0;34m(\u001b[0m\u001b[0;36m9\u001b[0m\u001b[0;34m)\u001b[0m\u001b[0;34m:\u001b[0m\u001b[0;34m\u001b[0m\u001b[0;34m\u001b[0m\u001b[0m\n\u001b[0;32m---> 27\u001b[0;31m     \u001b[0mps\u001b[0m \u001b[0;34m=\u001b[0m \u001b[0mTprime\u001b[0m\u001b[0;34m(\u001b[0m\u001b[0mps\u001b[0m\u001b[0;34m)\u001b[0m\u001b[0;34m\u001b[0m\u001b[0;34m\u001b[0m\u001b[0m\n\u001b[0m\u001b[1;32m     28\u001b[0m     \u001b[0mx\u001b[0m\u001b[0;34m,\u001b[0m\u001b[0my\u001b[0m \u001b[0;34m=\u001b[0m \u001b[0mmymod\u001b[0m\u001b[0;34m(\u001b[0m\u001b[0;34m(\u001b[0m\u001b[0mR\u001b[0m\u001b[0;34m.\u001b[0m\u001b[0mT\u001b[0m \u001b[0;34m@\u001b[0m \u001b[0mps\u001b[0m\u001b[0;34m)\u001b[0m\u001b[0;34m)\u001b[0m\u001b[0;34m\u001b[0m\u001b[0;34m\u001b[0m\u001b[0m\n\u001b[1;32m     29\u001b[0m     \u001b[0mthetaU\u001b[0m \u001b[0;34m=\u001b[0m \u001b[0mnp\u001b[0m\u001b[0;34m.\u001b[0m\u001b[0mconcatenate\u001b[0m\u001b[0;34m(\u001b[0m\u001b[0;34m(\u001b[0m\u001b[0mthetaU\u001b[0m\u001b[0;34m,\u001b[0m\u001b[0mx\u001b[0m\u001b[0;34m)\u001b[0m\u001b[0;34m)\u001b[0m\u001b[0;34m\u001b[0m\u001b[0;34m\u001b[0m\u001b[0m\n",
      "\u001b[0;32m/tmp/ipykernel_15529/2810523387.py\u001b[0m in \u001b[0;36m<lambda>\u001b[0;34m(p)\u001b[0m\n\u001b[1;32m      5\u001b[0m \u001b[0mu0\u001b[0m\u001b[0;34m=\u001b[0m\u001b[0;36m2e-2\u001b[0m\u001b[0;34m\u001b[0m\u001b[0;34m\u001b[0m\u001b[0m\n\u001b[1;32m      6\u001b[0m \u001b[0mp0\u001b[0m\u001b[0;34m,\u001b[0m\u001b[0mp1_approx\u001b[0m\u001b[0;34m=\u001b[0m\u001b[0mmanifold_approx\u001b[0m\u001b[0;34m(\u001b[0m\u001b[0mu0\u001b[0m\u001b[0;34m,\u001b[0m\u001b[0mnmax\u001b[0m\u001b[0;34m,\u001b[0m\u001b[0mfarr\u001b[0m\u001b[0;34m,\u001b[0m\u001b[0mgarr\u001b[0m\u001b[0;34m)\u001b[0m\u001b[0;34m\u001b[0m\u001b[0;34m\u001b[0m\u001b[0m\n\u001b[0;32m----> 7\u001b[0;31m \u001b[0mTprime\u001b[0m \u001b[0;34m=\u001b[0m \u001b[0;32mlambda\u001b[0m \u001b[0mp\u001b[0m\u001b[0;34m:\u001b[0m \u001b[0mR\u001b[0m \u001b[0;34m@\u001b[0m \u001b[0;34m(\u001b[0m\u001b[0memap\u001b[0m\u001b[0;34m(\u001b[0m\u001b[0mxunst\u001b[0m \u001b[0;34m+\u001b[0m \u001b[0mR\u001b[0m\u001b[0;34m.\u001b[0m\u001b[0mT\u001b[0m \u001b[0;34m@\u001b[0m \u001b[0mp\u001b[0m\u001b[0;34m)\u001b[0m\u001b[0;34m-\u001b[0m\u001b[0mxunst\u001b[0m\u001b[0;34m)\u001b[0m\u001b[0;34m\u001b[0m\u001b[0;34m\u001b[0m\u001b[0m\n\u001b[0m\u001b[1;32m      8\u001b[0m \u001b[0mp1\u001b[0m \u001b[0;34m=\u001b[0m \u001b[0mTprime\u001b[0m\u001b[0;34m(\u001b[0m\u001b[0mp0\u001b[0m\u001b[0;34m)\u001b[0m\u001b[0;34m\u001b[0m\u001b[0;34m\u001b[0m\u001b[0m\n\u001b[1;32m      9\u001b[0m \u001b[0;31m#p1 = R @ emap(R.T @ p0)\u001b[0m\u001b[0;34m\u001b[0m\u001b[0;34m\u001b[0m\u001b[0m\n",
      "\u001b[0;31mValueError\u001b[0m: operands could not be broadcast together with shapes (2,) (2,5000) "
     ]
    },
    {
     "data": {
      "image/png": "[encoded data removed]",
      "text/plain": [
       "<Figure size 432x288 with 1 Axes>"
      ]
     },
     "metadata": {
      "needs_background": "light"
     },
     "output_type": "display_data"
    }
   ],
   "source": [
    "emap.mod_p = False\n",
    "emap.mod_theta = False\n",
    "\n",
    "nmax=11\n",
    "u0=2e-2\n",
    "p0,p1_approx=manifold_approx(u0,nmax,farr,garr)\n",
    "Tprime = lambda p: R @ (emap(xunst + R.T @ p)-xunst)\n",
    "p1 = Tprime(p0)\n",
    "#p1 = R @ emap(R.T @ p0)\n",
    "(np.linalg.norm((p1-p1_approx))/np.linalg.norm(p1))\n",
    "u1 = func_from_series(garr,u0)\n",
    "\n",
    "\n",
    "wrap1 = lambda x: np.mod(x+0.5,1)-0.5\n",
    "mymod = lambda x: np.mod(x+np.pi,2*np.pi)-np.pi\n",
    "uvals = np.linspace(u0,u1,5000)\n",
    "_,ps = manifold_approx(uvals,nmax,farr,garr)\n",
    "x = np.array([0,0.5])\n",
    "xs = []\n",
    "for i in range(3500):\n",
    "    xs.append(x)\n",
    "    x = emap(x)\n",
    "theta,p=np.array(xs).T\n",
    "plt.plot(mymod(theta),wrap1(p),'k.',ms=2)\n",
    "thetaU,pU = ps\n",
    "for n in range(9):\n",
    "    ps = Tprime(ps)\n",
    "    x,y = mymod((R.T @ ps))\n",
    "    thetaU = np.concatenate((thetaU,x))\n",
    "    pU = np.concatenate((pU,y))\n",
    "    #plt.plot(*mymod((R.T @ ps)),'r.')\n",
    "\n",
    "\n",
    "# thetaU,pU = mymod((R.T @ ps))\n",
    "\n",
    "breaksX = np.abs(thetaU[1:] - thetaU[:-1])>np.pi\n",
    "breaksY = np.abs(pU[1:] - pU[:-1])>np.pi\n",
    "\n",
    "break_indices = np.arange(len(thetaU)-1)[np.logical_or(breaksX,breaksY)]\n",
    "np.concatenate(([0],break_indices,[-1]))\n",
    "for ilow,ihi in zip(break_indices[:-1],break_indices[1:]):\n",
    "    plt.plot(thetaU[ilow+1:ihi],pU[ilow+1:ihi],'r-',lw=1)"
   ]
  },
  {
   "cell_type": "code",
   "execution_count": null,
   "id": "9d70db5b",
   "metadata": {},
   "outputs": [],
   "source": []
  }
 ],
 "metadata": {
  "kernelspec": {
   "display_name": "Python 3 (ipykernel)",
   "language": "python",
   "name": "python3"
  },
  "language_info": {
   "codemirror_mode": {
    "name": "ipython",
    "version": 3
   },
   "file_extension": ".py",
   "mimetype": "text/x-python",
   "name": "python",
   "nbconvert_exporter": "python",
   "pygments_lexer": "ipython3",
   "version": "3.9.7"
  }
 },
 "nbformat": 4,
 "nbformat_minor": 5
}
