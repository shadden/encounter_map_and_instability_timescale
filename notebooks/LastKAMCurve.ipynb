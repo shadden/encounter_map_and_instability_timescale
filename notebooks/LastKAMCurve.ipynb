{
 "cells": [
  {
   "cell_type": "code",
   "execution_count": 1,
   "id": "14d787c8",
   "metadata": {},
   "outputs": [],
   "source": [
    "import sys\n",
    "import numpy as np\n",
    "sys.path.append(\"../code\")\n"
   ]
  },
  {
   "cell_type": "code",
   "execution_count": 2,
   "id": "c95f4094",
   "metadata": {},
   "outputs": [],
   "source": [
    "from FindLastKAM import experiment"
   ]
  },
  {
   "cell_type": "code",
   "execution_count": 3,
   "id": "a5356f02",
   "metadata": {},
   "outputs": [],
   "source": [
    "from rebound.interruptible_pool import InterruptiblePool\n",
    "pool = InterruptiblePool(processes=2)\n",
    "#qvals = np.linspace(40,65,10,endpoint=False)\n",
    "qvals = np.linspace(35,40,8,endpoint=False)"
   ]
  },
  {
   "cell_type": "code",
   "execution_count": 4,
   "id": "7692ea8c",
   "metadata": {},
   "outputs": [],
   "source": [
    "q,Ncrit,cmap=experiment(qvals[-1],Ttraj=5e7,return_cmap=True)"
   ]
  },
  {
   "cell_type": "code",
   "execution_count": 5,
   "id": "bb8ad25c",
   "metadata": {},
   "outputs": [
    {
     "name": "stderr",
     "output_type": "stream",
     "text": [
      "/Users/shadden/Projects/celmech/celmech/maps.py:818: UserWarning: Failed to meet relative error tolerance 0.07 for k<64 \n",
      "  warn(\"Failed to meet relative error tolerance {} for k<{} \".format(rtol,kmax))\n",
      "/Users/shadden/Projects/celmech/celmech/maps.py:818: UserWarning: Failed to meet relative error tolerance 0.07 for k<64 \n",
      "  warn(\"Failed to meet relative error tolerance {} for k<{} \".format(rtol,kmax))\n"
     ]
    },
    {
     "ename": "FileNotFoundError",
     "evalue": "[Errno 2] No such file or directory: '/home/hadden/Projects/07_CometMap/data/last_kam_curves2.npy'",
     "output_type": "error",
     "traceback": [
      "\u001b[0;31m---------------------------------------------------------------------------\u001b[0m",
      "\u001b[0;31mFileNotFoundError\u001b[0m                         Traceback (most recent call last)",
      "\u001b[0;32m/var/folders/0y/0wb96bc544s1wvz3qvx484qh0000gn/T/ipykernel_16628/1942504940.py\u001b[0m in \u001b[0;36m<module>\u001b[0;34m\u001b[0m\n\u001b[1;32m      2\u001b[0m \u001b[0;34m\u001b[0m\u001b[0m\n\u001b[1;32m      3\u001b[0m \u001b[0mresults\u001b[0m \u001b[0;34m=\u001b[0m \u001b[0mnp\u001b[0m\u001b[0;34m.\u001b[0m\u001b[0marray\u001b[0m\u001b[0;34m(\u001b[0m\u001b[0mresults\u001b[0m\u001b[0;34m)\u001b[0m\u001b[0;34m\u001b[0m\u001b[0;34m\u001b[0m\u001b[0m\n\u001b[0;32m----> 4\u001b[0;31m \u001b[0mnp\u001b[0m\u001b[0;34m.\u001b[0m\u001b[0msave\u001b[0m\u001b[0;34m(\u001b[0m\u001b[0;34m\"/home/hadden/Projects/07_CometMap/data/last_kam_curves2\"\u001b[0m\u001b[0;34m,\u001b[0m\u001b[0mresults\u001b[0m\u001b[0;34m)\u001b[0m\u001b[0;34m\u001b[0m\u001b[0;34m\u001b[0m\u001b[0m\n\u001b[0m",
      "\u001b[0;32m<__array_function__ internals>\u001b[0m in \u001b[0;36msave\u001b[0;34m(*args, **kwargs)\u001b[0m\n",
      "\u001b[0;32m~/anaconda/envs/celmech/lib/python3.9/site-packages/numpy/lib/npyio.py\u001b[0m in \u001b[0;36msave\u001b[0;34m(file, arr, allow_pickle, fix_imports)\u001b[0m\n\u001b[1;32m    523\u001b[0m         \u001b[0;32mif\u001b[0m \u001b[0;32mnot\u001b[0m \u001b[0mfile\u001b[0m\u001b[0;34m.\u001b[0m\u001b[0mendswith\u001b[0m\u001b[0;34m(\u001b[0m\u001b[0;34m'.npy'\u001b[0m\u001b[0;34m)\u001b[0m\u001b[0;34m:\u001b[0m\u001b[0;34m\u001b[0m\u001b[0;34m\u001b[0m\u001b[0m\n\u001b[1;32m    524\u001b[0m             \u001b[0mfile\u001b[0m \u001b[0;34m=\u001b[0m \u001b[0mfile\u001b[0m \u001b[0;34m+\u001b[0m \u001b[0;34m'.npy'\u001b[0m\u001b[0;34m\u001b[0m\u001b[0;34m\u001b[0m\u001b[0m\n\u001b[0;32m--> 525\u001b[0;31m         \u001b[0mfile_ctx\u001b[0m \u001b[0;34m=\u001b[0m \u001b[0mopen\u001b[0m\u001b[0;34m(\u001b[0m\u001b[0mfile\u001b[0m\u001b[0;34m,\u001b[0m \u001b[0;34m\"wb\"\u001b[0m\u001b[0;34m)\u001b[0m\u001b[0;34m\u001b[0m\u001b[0;34m\u001b[0m\u001b[0m\n\u001b[0m\u001b[1;32m    526\u001b[0m \u001b[0;34m\u001b[0m\u001b[0m\n\u001b[1;32m    527\u001b[0m     \u001b[0;32mwith\u001b[0m \u001b[0mfile_ctx\u001b[0m \u001b[0;32mas\u001b[0m \u001b[0mfid\u001b[0m\u001b[0;34m:\u001b[0m\u001b[0;34m\u001b[0m\u001b[0;34m\u001b[0m\u001b[0m\n",
      "\u001b[0;31mFileNotFoundError\u001b[0m: [Errno 2] No such file or directory: '/home/hadden/Projects/07_CometMap/data/last_kam_curves2.npy'"
     ]
    }
   ],
   "source": [
    "results = pool.map(experiment,qvals)\n",
    "\n",
    "results = np.array(results)\n",
    "np.save(\"/home/hadden/Projects/07_CometMap/data/last_kam_curves2\",results)"
   ]
  },
  {
   "cell_type": "code",
   "execution_count": 7,
   "id": "f53b3d00",
   "metadata": {},
   "outputs": [],
   "source": [
    "np.save(\"../data/last_kam_curves2\",results)"
   ]
  },
  {
   "cell_type": "code",
   "execution_count": null,
   "id": "99344f38",
   "metadata": {},
   "outputs": [],
   "source": [
    "from sos_utils import get_map_pts"
   ]
  },
  {
   "cell_type": "code",
   "execution_count": null,
   "id": "3e9b3942",
   "metadata": {},
   "outputs": [],
   "source": [
    "import matplotlib.pyplot as plt"
   ]
  },
  {
   "cell_type": "code",
   "execution_count": null,
   "id": "9b8e241e",
   "metadata": {},
   "outputs": [],
   "source": [
    "cmap.N,Ncrit"
   ]
  },
  {
   "cell_type": "code",
   "execution_count": null,
   "id": "c6795fa1",
   "metadata": {},
   "outputs": [],
   "source": [
    "cmap.N=12\n",
    "orbit = get_map_pts((0,0.5+1e-5),cmap,100_000)\n",
    "theta,w = np.transpose(orbit)\n",
    "plt.plot(np.mod(theta,2*np.pi),np.mod(w+0.5,1)-0.5,'k.',ms=0.5)"
   ]
  }
 ],
 "metadata": {
  "kernelspec": {
   "display_name": "Python 3 (ipykernel)",
   "language": "python",
   "name": "python3"
  },
  "language_info": {
   "codemirror_mode": {
    "name": "ipython",
    "version": 3
   },
   "file_extension": ".py",
   "mimetype": "text/x-python",
   "name": "python",
   "nbconvert_exporter": "python",
   "pygments_lexer": "ipython3",
   "version": "3.9.7"
  }
 },
 "nbformat": 4,
 "nbformat_minor": 5
}
